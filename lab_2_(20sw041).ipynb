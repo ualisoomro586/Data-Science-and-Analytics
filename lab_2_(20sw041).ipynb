{
 "cells": [
  {
   "cell_type": "markdown",
   "id": "5624ce2e",
   "metadata": {},
   "source": [
    "# Task no 1\n",
    "## Prizes based on score\n"
   ]
  },
  {
   "cell_type": "code",
   "execution_count": 55,
   "id": "31d753e2",
   "metadata": {},
   "outputs": [
    {
     "name": "stdout",
     "output_type": "stream",
     "text": [
      "Congratulations! You won a price [wafer-thin mint]!\n"
     ]
    }
   ],
   "source": [
    "points=174\n",
    "result=\"\"\n",
    "\n",
    "if (points >=1 and points <=50) :\n",
    "    result =\"Congratulations! You won a price [wooden rabbit]!\"\n",
    "    \n",
    "elif (points >=51 and points <=150):\n",
    "    result=\"Oh dear , no prize this time.\"\n",
    "elif (points >=151 and points <=180):\n",
    "    result=\"Congratulations! You won a price [wafer-thin mint]!\"\n",
    "elif (points >=181 and points <=200):\n",
    "    result=\"Congratulations! You won a price [penguin]!\"\n",
    "else:\n",
    "    result='invalid points'\n",
    "print(result)"
   ]
  },
  {
   "cell_type": "code",
   "execution_count": null,
   "id": "03e14a6d",
   "metadata": {},
   "outputs": [],
   "source": []
  },
  {
   "cell_type": "markdown",
   "id": "020fb736",
   "metadata": {},
   "source": [
    "# Task no 2 \n",
    "## Guess My Number"
   ]
  },
  {
   "cell_type": "code",
   "execution_count": 57,
   "id": "65c7be17",
   "metadata": {},
   "outputs": [
    {
     "name": "stdout",
     "output_type": "stream",
     "text": [
      "Enter your guess number:50\n",
      "Nice! your guess matched the answer\n"
     ]
    }
   ],
   "source": [
    "answer=50\n",
    "guess=int(input(\"Enter your guess number:\"))\n",
    "result=''\n",
    "\n",
    "if guess < answer:\n",
    "    result=\"Oops! your guess was too low\"\n",
    "elif guess > answer:\n",
    "    result=\"Oops! your guess was too high\"\n",
    "else:\n",
    "    result=\"Nice! your guess matched the answer\"\n",
    "print(result)"
   ]
  },
  {
   "cell_type": "markdown",
   "id": "d39b03b5",
   "metadata": {},
   "source": [
    "# Task no 3\n",
    "### Tax"
   ]
  },
  {
   "cell_type": "code",
   "execution_count": 69,
   "id": "8f82b3e7",
   "metadata": {},
   "outputs": [
    {
     "name": "stdout",
     "output_type": "stream",
     "text": [
      "Enter amount of purchase: 54\n",
      "Enter your state (CA, MN or NY): tr\n",
      "Please Enter Correct state (CA,MN or NY)\n"
     ]
    }
   ],
   "source": [
    "\n",
    "tax_info ={\n",
    "    'CA':0.075, #7.5%\n",
    "    'MN':0.095, #9.5%\n",
    "    'NY':0.089, #8.9%\n",
    "}\n",
    "\n",
    "amount=float(input(\"Enter amount of purchase: \"))\n",
    "state=input(\"Enter your state (CA, MN or NY): \")\n",
    "\n",
    "if state in tax_info:\n",
    "    tax= tax_info[state]\n",
    "    tax_amount = amount*tax\n",
    "    total_amount=amount+tax_amount\n",
    "    \n",
    "    print(f\"Tax amount: ${tax_amount:.2f}\")\n",
    "    print(f\"Total amount: ${total_amount:.2f}\")\n",
    "else:\n",
    "    print(\"Wrong State! ,Please Enter Correct state (CA,MN or NY)\")"
   ]
  },
  {
   "cell_type": "code",
   "execution_count": null,
   "id": "7c73d9e4",
   "metadata": {},
   "outputs": [],
   "source": []
  },
  {
   "cell_type": "markdown",
   "id": "a6cbe0cc",
   "metadata": {},
   "source": [
    "# Task no 4\n",
    "## List "
   ]
  },
  {
   "cell_type": "code",
   "execution_count": 70,
   "id": "e79d6c09",
   "metadata": {},
   "outputs": [
    {
     "name": "stdout",
     "output_type": "stream",
     "text": [
      "The\n",
      "Quick\n",
      "Brown\n",
      "Fox\n",
      "Jumped\n",
      "Over\n",
      "the\n",
      "Lazy\n",
      "Dog\n"
     ]
    }
   ],
   "source": [
    "sentence=[\"The\",\"Quick\",\"Brown\",\"Fox\",\"Jumped\",\"Over\",\"the\",\"Lazy\",\"Dog\"]\n",
    "for word in sentence:\n",
    "    print(word)"
   ]
  },
  {
   "cell_type": "code",
   "execution_count": null,
   "id": "b8f71fbf",
   "metadata": {},
   "outputs": [],
   "source": []
  },
  {
   "cell_type": "markdown",
   "id": "60628a9a",
   "metadata": {},
   "source": [
    "# Task no 5\n",
    "## Multiples of 5 \n"
   ]
  },
  {
   "cell_type": "code",
   "execution_count": 76,
   "id": "60172069",
   "metadata": {},
   "outputs": [
    {
     "name": "stdout",
     "output_type": "stream",
     "text": [
      "5\n",
      "10\n",
      "15\n",
      "20\n",
      "25\n",
      "30\n"
     ]
    }
   ],
   "source": [
    "for i in range(1,31):\n",
    "    if i%5==0:\n",
    "        print(i)"
   ]
  },
  {
   "cell_type": "markdown",
   "id": "dd011509",
   "metadata": {},
   "source": [
    "# Task no 6 \n",
    "## Extract First Names"
   ]
  },
  {
   "cell_type": "code",
   "execution_count": 83,
   "id": "1756a01d",
   "metadata": {},
   "outputs": [
    {
     "data": {
      "text/plain": [
       "['Rick', 'Morty', 'Summer', 'Jerry', 'Beth']"
      ]
     },
     "execution_count": 83,
     "metadata": {},
     "output_type": "execute_result"
    }
   ],
   "source": [
    "names = [\"Rick Sanchez\", \"Morty Smith\", \"Summer Smith\", \"Jerry Smith\", \"Beth Smith\"]\n",
    "\n",
    "first_names=[x.split(' ')[0] for x in names]\n",
    "first_names\n"
   ]
  },
  {
   "cell_type": "markdown",
   "id": "0b16f55f",
   "metadata": {},
   "source": [
    "# Task no 7 \n",
    "## Multiples of 3 \n"
   ]
  },
  {
   "cell_type": "code",
   "execution_count": 87,
   "id": "837f56d5",
   "metadata": {},
   "outputs": [
    {
     "data": {
      "text/plain": [
       "[3, 6, 9, 12, 15, 18]"
      ]
     },
     "execution_count": 87,
     "metadata": {},
     "output_type": "execute_result"
    }
   ],
   "source": [
    "multiple_3=[x for x in range(1,20) if x%3==0]\n",
    "multiple_3"
   ]
  },
  {
   "cell_type": "code",
   "execution_count": null,
   "id": "a9700917",
   "metadata": {},
   "outputs": [],
   "source": []
  },
  {
   "cell_type": "markdown",
   "id": "2d79e413",
   "metadata": {},
   "source": [
    "# Task no 8\n",
    "## Filter names by score "
   ]
  },
  {
   "cell_type": "code",
   "execution_count": 98,
   "id": "91c8a397",
   "metadata": {},
   "outputs": [
    {
     "name": "stdout",
     "output_type": "stream",
     "text": [
      "['Rick Sanchez', 'Summer Smith', 'Beth Smith']\n"
     ]
    }
   ],
   "source": [
    "scores = {\n",
    " \"Rick Sanchez\": 70,\n",
    " \"Morty Smith\": 35,\n",
    " \"Summer Smith\": 82,\n",
    " \"Jerry Smith\": 23,\n",
    " \"Beth Smith\": 98\n",
    " }\n",
    "\n",
    "passed =[name for name, score in scores.items() if score >=65]\n",
    "print(passed)"
   ]
  },
  {
   "cell_type": "code",
   "execution_count": null,
   "id": "4502b2f0",
   "metadata": {},
   "outputs": [],
   "source": []
  },
  {
   "cell_type": "markdown",
   "id": "c3547a1d",
   "metadata": {},
   "source": [
    "# Task no 9\n",
    "## Zip List to a Dictionary"
   ]
  },
  {
   "cell_type": "code",
   "execution_count": 100,
   "id": "6f885ff8",
   "metadata": {},
   "outputs": [
    {
     "name": "stdout",
     "output_type": "stream",
     "text": [
      "{'Barney': 72, 'Robin': 68, 'Ted': 72, 'Lily': 66, 'Marshall': 76}\n"
     ]
    }
   ],
   "source": [
    "cast_names = [\"Barney\", \"Robin\", \"Ted\", \"Lily\", \"Marshall\"]\n",
    "cast_heights = [72, 68, 72, 66, 76]\n",
    "\n",
    "cast=dict(zip(cast_names,cast_heights))\n",
    "print(cast)"
   ]
  },
  {
   "cell_type": "code",
   "execution_count": null,
   "id": "d1f7480c",
   "metadata": {},
   "outputs": [],
   "source": []
  },
  {
   "cell_type": "markdown",
   "id": "ad3bc179",
   "metadata": {},
   "source": [
    "# Task no 10 \n",
    "## use of enumerate"
   ]
  },
  {
   "cell_type": "code",
   "execution_count": 102,
   "id": "02ff9a10",
   "metadata": {},
   "outputs": [
    {
     "name": "stdout",
     "output_type": "stream",
     "text": [
      "['Barney Stinson 72', 'Robin Scherbatsky 68', 'Ted Mosby 72', 'Lily Aldrin 66', 'Marshall Eriksen 76']\n"
     ]
    }
   ],
   "source": [
    "cast = [\"Barney Stinson\", \"Robin Scherbatsky\", \"Ted Mosby\", \n",
    "\"Lily Aldrin\", \"Marshall Eriksen\"]\n",
    "heights = [72, 68, 72, 66, 76]\n",
    "\n",
    "for index , name in enumerate(cast):\n",
    "    height=heights[index]\n",
    "    cast[index]= f\"{name} {height}\"\n",
    "print(cast)"
   ]
  },
  {
   "cell_type": "code",
   "execution_count": null,
   "id": "df9f8cf0",
   "metadata": {},
   "outputs": [],
   "source": []
  }
 ],
 "metadata": {
  "kernelspec": {
   "display_name": "Python 3 (ipykernel)",
   "language": "python",
   "name": "python3"
  },
  "language_info": {
   "codemirror_mode": {
    "name": "ipython",
    "version": 3
   },
   "file_extension": ".py",
   "mimetype": "text/x-python",
   "name": "python",
   "nbconvert_exporter": "python",
   "pygments_lexer": "ipython3",
   "version": "3.9.7"
  }
 },
 "nbformat": 4,
 "nbformat_minor": 5
}
