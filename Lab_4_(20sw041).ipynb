{
 "cells": [
  {
   "cell_type": "markdown",
   "id": "ba6e26e8",
   "metadata": {},
   "source": [
    "# Task no 1"
   ]
  },
  {
   "cell_type": "code",
   "execution_count": 10,
   "id": "e0e50e21",
   "metadata": {},
   "outputs": [
    {
     "data": {
      "text/plain": [
       "array([[ 2,  4,  6,  8],\n",
       "       [10, 12, 14, 16],\n",
       "       [18, 20, 22, 24],\n",
       "       [26, 28, 30, 32]])"
      ]
     },
     "execution_count": 10,
     "metadata": {},
     "output_type": "execute_result"
    }
   ],
   "source": [
    "import numpy as np\n",
    "\n",
    "x= np.arange(2,34,2).reshape(4,4)\n",
    "\n",
    "x"
   ]
  },
  {
   "cell_type": "code",
   "execution_count": null,
   "id": "5697c543",
   "metadata": {},
   "outputs": [],
   "source": []
  },
  {
   "cell_type": "markdown",
   "id": "7bb7d906",
   "metadata": {},
   "source": [
    "# Task no 2"
   ]
  },
  {
   "cell_type": "code",
   "execution_count": 16,
   "id": "3b8b4a26",
   "metadata": {},
   "outputs": [
    {
     "data": {
      "text/plain": [
       "array([ 1,  3,  5,  7,  9, 11, 13, 15, 17, 19, 21, 23, 25])"
      ]
     },
     "execution_count": 16,
     "metadata": {},
     "output_type": "execute_result"
    }
   ],
   "source": [
    "import numpy as np\n",
    "\n",
    "y= np.arange(1,26).reshape(5,5)\n",
    "\n",
    "boolean_array= y % 2 !=0\n",
    "\n",
    "selected_elements= y[boolean_array]\n",
    "\n",
    "selected_elements"
   ]
  },
  {
   "cell_type": "code",
   "execution_count": null,
   "id": "7569bb4d",
   "metadata": {},
   "outputs": [],
   "source": []
  },
  {
   "cell_type": "markdown",
   "id": "4cd966f2",
   "metadata": {},
   "source": [
    "# Task no 3"
   ]
  },
  {
   "cell_type": "code",
   "execution_count": 30,
   "id": "11a5a483",
   "metadata": {},
   "outputs": [
    {
     "data": {
      "text/plain": [
       "(4, 4)"
      ]
     },
     "execution_count": 30,
     "metadata": {},
     "output_type": "execute_result"
    }
   ],
   "source": [
    "import numpy as np\n",
    "\n",
    "x= np.arange(1,5)\n",
    "\n",
    "X= x[:, np.newaxis]* np.ones((1,4), dtype=int)"
   ]
  },
  {
   "cell_type": "code",
   "execution_count": null,
   "id": "dcb1988c",
   "metadata": {},
   "outputs": [],
   "source": []
  }
 ],
 "metadata": {
  "kernelspec": {
   "display_name": "Python 3 (ipykernel)",
   "language": "python",
   "name": "python3"
  },
  "language_info": {
   "codemirror_mode": {
    "name": "ipython",
    "version": 3
   },
   "file_extension": ".py",
   "mimetype": "text/x-python",
   "name": "python",
   "nbconvert_exporter": "python",
   "pygments_lexer": "ipython3",
   "version": "3.9.7"
  }
 },
 "nbformat": 4,
 "nbformat_minor": 5
}
