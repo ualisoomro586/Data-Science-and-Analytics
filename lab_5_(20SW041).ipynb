{
 "cells": [
  {
   "cell_type": "markdown",
   "id": "fa98dd74",
   "metadata": {},
   "source": [
    "# Task no 1 "
   ]
  },
  {
   "cell_type": "code",
   "execution_count": 24,
   "id": "3103749a",
   "metadata": {},
   "outputs": [
    {
     "name": "stdout",
     "output_type": "stream",
     "text": [
      "Earth     8.311111\n",
      "Mars     12.661111\n",
      "Venus     6.011111\n",
      "dtype: float64\n"
     ]
    }
   ],
   "source": [
    "import pandas as pd\n",
    "\n",
    "distance_from_sun = [149.6, 1433.5, 227.9, 108.2, 778.6]\n",
    "\n",
    "planets = ['Earth','Saturn', 'Mars','Venus', 'Jupiter']\n",
    "\n",
    "# Create a Pandas Series using the above data, with the name of the planets as\n",
    "dist_planets=pd.Series(distance_from_sun, index=planets)\n",
    "\n",
    "# use a value for the speed of light of c = 18, since light travels 18 x 10^6 km/minute. \n",
    "c =18 \n",
    "\n",
    "time_light=dist_planets/c\n",
    "\n",
    "# Use Boolean indexing to select only those planets for which sunlight takes less\n",
    "# than 40 minutes to reach them\n",
    "close_planets=time_light[time_light<40]\n",
    "\n",
    "print(close_planets)\n",
    "\n",
    "\n",
    "\n"
   ]
  },
  {
   "cell_type": "markdown",
   "id": "24757901",
   "metadata": {},
   "source": [
    "# Task no 2"
   ]
  },
  {
   "cell_type": "code",
   "execution_count": 70,
   "id": "6bc3a325",
   "metadata": {},
   "outputs": [
    {
     "name": "stdout",
     "output_type": "stream",
     "text": [
      "Books Ratings:\n",
      "               Authors           Book_title  User 1  User 2    User 3  User 4\n",
      "0      Charles Dickens   Great Expectations    3.20   5.000  2.000000     4.0\n",
      "1       John Steinbeck      Of Mice and Men    2.85   1.300  2.300000     3.5\n",
      "2  William Shakespeare     Romeo and Juliet    2.50   4.000  2.766667     4.0\n",
      "3          H. G. Wells     The Time Machine    2.85   3.800  4.000000     5.0\n",
      "4        Lewis Carroll  Alice in Wonderland    2.85   3.525  2.766667     4.2\n",
      "\n",
      "Best Best Rated Books:\n",
      "['Great Expectations' 'The Time Machine']\n"
     ]
    }
   ],
   "source": [
    "import pandas as pd \n",
    "import numpy as np\n",
    "\n",
    "books = pd.Series(data = ['Great Expectations', 'Of Mice and Men', 'Romeo and Juliet', 'The Time Machine', 'Alice in Wonderland' ])\n",
    "authors = pd.Series(data = ['Charles Dickens', 'John Steinbeck', 'William Shakespeare', ' H. G. Wells', 'Lewis Carroll' ])\n",
    "\n",
    "user_1 = pd.Series(data = [3.2, np.nan ,2.5])\n",
    "user_2 = pd.Series(data = [5., 1.3, 4.0, 3.8])\n",
    "user_3 = pd.Series(data = [2.0, 2.3, np.nan, 4])\n",
    "user_4 = pd.Series(data = [4, 3.5, 4, 5, 4.2])\n",
    "\n",
    "\n",
    "dat={\n",
    "    'Authors':authors,\n",
    "    'Book_title':books,\n",
    "    'User 1':user_1,\n",
    "    'User 2':user_2,\n",
    "    'User 3':user_3,\n",
    "    'User 4':user_4,\n",
    "}\n",
    "\n",
    "book_ratings=pd.DataFrame(dat)\n",
    "\n",
    "\n",
    "book_ratings.fillna(book_ratings.mean(numeric_only=True), inplace=True)\n",
    "\n",
    "best_rated= book_ratings[(book_ratings==5).any(axis=1)]['Book_title'].values\n",
    "\n",
    "print(\"Books Ratings:\")\n",
    "print(book_ratings)\n",
    "print(\"\\nBest Best Rated Books:\")\n",
    "print(best_rated)"
   ]
  },
  {
   "cell_type": "code",
   "execution_count": null,
   "id": "e5876289",
   "metadata": {},
   "outputs": [],
   "source": []
  },
  {
   "cell_type": "markdown",
   "id": "1fca000d",
   "metadata": {},
   "source": [
    "# Task no 3 "
   ]
  },
  {
   "cell_type": "code",
   "execution_count": 129,
   "id": "ce247211",
   "metadata": {},
   "outputs": [
    {
     "name": "stdout",
     "output_type": "stream",
     "text": [
      "Average stock price:\n",
      "Google    347.420229\n",
      "Apple      35.222976\n",
      "Amazon    166.095436\n",
      "dtype: float64\n",
      "\n",
      "Median stock price:\n",
      "Google    286.397247\n",
      "Apple      17.524017\n",
      "Amazon     76.980003\n",
      "dtype: float64\n",
      "\n",
      "Standard deviation of the stock:\n",
      "Google    187.671596\n",
      "Apple      37.945557\n",
      "Amazon    189.212345\n",
      "dtype: float64\n",
      "\n",
      "Correlation between stocks:\n",
      "          Google     Apple    Amazon\n",
      "Google  1.000000  0.900242  0.952444\n",
      "Apple   0.900242  1.000000  0.906296\n",
      "Amazon  0.952444  0.906296  1.000000\n",
      "\n",
      "Rolling mean of google company\n",
      "Date\n",
      "2004-08-19           NaN\n",
      "2004-08-20           NaN\n",
      "2004-08-23           NaN\n",
      "2004-08-24           NaN\n",
      "2004-08-25           NaN\n",
      "                 ...    \n",
      "2017-10-09    914.616868\n",
      "2017-10-10    915.531735\n",
      "2017-10-11    916.535535\n",
      "2017-10-12    917.499402\n",
      "2017-10-13    918.460335\n",
      "Name: Google, Length: 3313, dtype: float64\n"
     ]
    }
   ],
   "source": [
    "import pandas as pd \n",
    "\n",
    "df=pd.read_csv(\"GOOG.csv\")\n",
    "\n",
    "df.head()\n",
    "\n",
    "# We load the Google stock data into a DataFrame\n",
    "google_stock = pd.read_csv(\"GooG.csv\", usecols=['Date','Adj Close'], parse_dates=[\"Date\"], index_col=['Date'])\n",
    "\n",
    "# We load the Apple stock data into a DataFrame\n",
    "apple_stock = pd.read_csv(\"AAPL.csv\", usecols=['Date','Adj Close'], parse_dates=['Date'], index_col=['Date'])\n",
    "\n",
    "# We load the Amazon stock data into a DataFrame\n",
    "amazon_stock = pd.read_csv(\"AMZN.csv\", usecols=['Date','Adj Close'], parse_dates=['Date'], index_col=['Date'])\n",
    "\n",
    "# We create calendar dates between '2000-01-01' and  '2016-12-31'\n",
    "dates = pd.date_range('2000-01-01', '2016-12-31')\n",
    "\n",
    "# We create and empty DataFrame that uses the above dates as indices\n",
    "all_stocks = pd.DataFrame(index = dates)\n",
    "\n",
    "# Change the Adj Close column label to Google\n",
    "google_stock = google_stock.rename(columns={'Adj Close':'Google'})\n",
    "\n",
    "# Change the Adj Close column label to Apple\n",
    "apple_stock = apple_stock.rename(columns={'Adj Close':\"Apple\"})\n",
    "\n",
    "# Change the Adj Close column label to Amazon\n",
    "amazon_stock = amazon_stock.rename(columns={'Adj Close':\"Amazon\"})\n",
    "\n",
    "\n",
    "# We join the Google stock to all_stocks\n",
    "all_stocks = all_stocks.join(google_stock)\n",
    "\n",
    "# We join the Apple stock to all_stocks\n",
    "all_stocks = all_stocks.join(apple_stock)\n",
    "\n",
    "# We join the Amazon stock to all_stocks\n",
    "all_stocks =all_stocks.join(amazon_stock)\n",
    "\n",
    "\n",
    "# Check if there are any NaN values in the all_stocks dataframe\n",
    "all_stocks.isna()\n",
    "\n",
    "# Remove any rows that contain NaN values\n",
    "all_stocks.dropna()\n",
    "\n",
    "# Print the average stock price for each stock\n",
    "print(\"Average stock price:\")\n",
    "print(all_stocks.mean())\n",
    "\n",
    "# Print the median stock price for each stock\n",
    "print(\"\\nMedian stock price:\")\n",
    "print(all_stocks.median())\n",
    "\n",
    "# Print the standard deviation of the stock price for each stock  \n",
    "print(\"\\nStandard deviation of the stock:\")\n",
    "print(all_stocks.std())\n",
    "\n",
    "# Print the correlation between stocks\n",
    "print(\"\\nCorrelation between stocks:\")\n",
    "print(all_stocks.corr())\n",
    "\n",
    "# We compute the rolling mean using a 150-Day window for Google stock\n",
    "rollingMean = google_stock[\"Google\"].rolling(window=150).mean()\n",
    "print(\"\\nRolling mean of google company\")\n",
    "print(rollingMean)"
   ]
  },
  {
   "cell_type": "markdown",
   "id": "a607d384",
   "metadata": {},
   "source": [
    "We can also visualize the rolling mean by plotting the data in our dataframe. In the following lessons you will learn how to use Matplotlib to visualize data. For now I will just import matplotlib and plot the Google stock data on top of the rolling mean. You can play around by changing the rolling mean window and see how the plot changes."
   ]
  },
  {
   "cell_type": "code",
   "execution_count": 142,
   "id": "f5c21974",
   "metadata": {},
   "outputs": [
    {
     "data": {
      "image/png": "[encoded data removed]",
      "text/plain": [
       "<Figure size 504x504 with 1 Axes>"
      ]
     },
     "metadata": {
      "needs_background": "light"
     },
     "output_type": "display_data"
    }
   ],
   "source": [
    "# import matplotlib for visualization \n",
    "import matplotlib.pyplot as plt\n",
    "%matplotlib inline\n",
    "\n",
    "# this will incrase size of figure \n",
    "plt.figure(figsize=(7,7))\n",
    "\n",
    "# We plot the Google stock data\n",
    "plt.plot(all_stocks['Google'])\n",
    "\n",
    "# We plot the rolling mean ontop of our Google stock data\n",
    "plt.plot(rollingMean)\n",
    "plt.legend(['Google Stock Price', 'Rolling Mean'])\n",
    "plt.show()"
   ]
  },
  {
   "cell_type": "code",
   "execution_count": null,
   "id": "d07ae8f0",
   "metadata": {},
   "outputs": [],
   "source": []
  },
  {
   "cell_type": "code",
   "execution_count": null,
   "id": "748706a1",
   "metadata": {},
   "outputs": [],
   "source": []
  },
  {
   "cell_type": "code",
   "execution_count": null,
   "id": "7bdfbc40",
   "metadata": {},
   "outputs": [],
   "source": []
  },
  {
   "cell_type": "code",
   "execution_count": null,
   "id": "fcc2b791",
   "metadata": {},
   "outputs": [],
   "source": []
  }
 ],
 "metadata": {
  "kernelspec": {
   "display_name": "Python 3 (ipykernel)",
   "language": "python",
   "name": "python3"
  },
  "language_info": {
   "codemirror_mode": {
    "name": "ipython",
    "version": 3
   },
   "file_extension": ".py",
   "mimetype": "text/x-python",
   "name": "python",
   "nbconvert_exporter": "python",
   "pygments_lexer": "ipython3",
   "version": "3.9.7"
  }
 },
 "nbformat": 4,
 "nbformat_minor": 5
}
