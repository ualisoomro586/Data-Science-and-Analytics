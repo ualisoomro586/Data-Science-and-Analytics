{
 "cells": [
  {
   "cell_type": "markdown",
   "id": "e22d5132",
   "metadata": {},
   "source": [
    "# Task no 1\n",
    "\n",
    "### Write two lines of code below, each assigning a value to a variable\n",
    "### Now write a print statement using .format() to print out a sentence and the \n",
    "### values of both of the variables"
   ]
  },
  {
   "cell_type": "code",
   "execution_count": 5,
   "id": "69b9c473",
   "metadata": {},
   "outputs": [
    {
     "name": "stdout",
     "output_type": "stream",
     "text": [
      "My name is Usman and My roll no is 20sw041 \n"
     ]
    },
    {
     "data": {
      "text/plain": [
       "True"
      ]
     },
     "execution_count": 5,
     "metadata": {},
     "output_type": "execute_result"
    }
   ],
   "source": [
    "name = 'Usman'\n",
    "rollno = '20sw041'\n",
    "\n",
    "print(\"My name is {} and My roll no is {} \".format(name,rollno))\n"
   ]
  },
  {
   "cell_type": "markdown",
   "id": "c6a926f0",
   "metadata": {},
   "source": [
    "# Task no 2 \n",
    "## String methods"
   ]
  },
  {
   "cell_type": "code",
   "execution_count": 31,
   "id": "f8c84e87",
   "metadata": {},
   "outputs": [
    {
     "name": "stdout",
     "output_type": "stream",
     "text": [
      "Usman\n",
      "False\n",
      "It is a Question\n",
      "hello usman!\n"
     ]
    }
   ],
   "source": [
    "name='usman'\n",
    "print(str.capitalize(name)) # return copy of string whose 1st letter is capitalize\n",
    "\n",
    "number='123456'\n",
    "\n",
    "print(str.isalpha(number)) # it will show if string contains aplhabets \n",
    "\n",
    "text=\"how are you?\"\n",
    "\n",
    "if text.endswith('?'):\n",
    "    print(\"It is a Question\")\n",
    "else:\n",
    "    print(\"it is simple text\")\n",
    "\n",
    "\n",
    "Sentence='Hello Usman!'\n",
    "casefolded_text=Sentence.casefold()\n",
    "print(casefolded_text)\n"
   ]
  },
  {
   "cell_type": "markdown",
   "id": "8a429922",
   "metadata": {},
   "source": [
    "# Task no 3 \n",
    "## List indexing\n",
    "### Use list indexing to determine how many days are in a particular month based on the \n",
    "### integer variable month , and store that value in the integer variable num_days . For \n",
    "### example, if month is 8, num_days should be set to 31, since the eighth month, August, \n",
    "### has 31 days.\n",
    "### Remember to account for zero-based indexing!"
   ]
  },
  {
   "cell_type": "code",
   "execution_count": 10,
   "id": "afcbebb8",
   "metadata": {},
   "outputs": [
    {
     "name": "stdout",
     "output_type": "stream",
     "text": [
      "31\n"
     ]
    }
   ],
   "source": [
    "month = 8\n",
    "days_in_month = [31,28,31,30,31,30,31,31,30,31,30,31]\n",
    "\n",
    "no_of_days=days_in_month[month-1]\n",
    "print(no_of_days)"
   ]
  },
  {
   "cell_type": "markdown",
   "id": "209ecb97",
   "metadata": {},
   "source": [
    "# Task no 4 \n",
    "### Select the three most recent dates from this list using list slicing notation. Hint: negative indexes \n",
    "### work in slices!"
   ]
  },
  {
   "cell_type": "code",
   "execution_count": 13,
   "id": "29d00824",
   "metadata": {},
   "outputs": [
    {
     "name": "stdout",
     "output_type": "stream",
     "text": [
      "['November 13, 2012', 'March 20, 2015', 'March 9, 2016']\n"
     ]
    }
   ],
   "source": [
    "eclipse_dates = ['June 21, 2001', 'December 4, 2002', 'November 23, 2003',\n",
    " 'March 29, 2006', 'August 1, 2008', 'July 22, 2009',\n",
    " 'July 11, 2010', 'November 13, 2012', 'March 20, 2015',\n",
    " 'March 9, 2016']\n",
    "\n",
    "#TODO: Modify this line so it prints the last three elements of the list\n",
    "\n",
    "print(eclipse_dates[-3:])"
   ]
  },
  {
   "cell_type": "markdown",
   "id": "c7479e77",
   "metadata": {},
   "source": [
    "# Task no 5 \n",
    "### Store student’s data using nested dictionary"
   ]
  },
  {
   "cell_type": "code",
   "execution_count": 19,
   "id": "51370b02",
   "metadata": {},
   "outputs": [
    {
     "name": "stdout",
     "output_type": "stream",
     "text": [
      "{'Name': 'Usman', 'Age': 20, 'year of study': '3rd'}\n",
      "{'Name': 'Adarsh', 'Age': 20, 'year of study': '3rd'}\n",
      "{'Name': 'Jawad Qayoom', 'Age': 21, 'year of study': '3rd'}\n"
     ]
    }
   ],
   "source": [
    "student_record ={\n",
    "    '20SW041':{\n",
    "        'Name':'Usman',\n",
    "        'Age':20,\n",
    "        'year of study': '3rd'\n",
    "    },\n",
    "    '20SW117':{\n",
    "        'Name':'Adarsh',\n",
    "        'Age':20,\n",
    "        'year of study': '3rd'\n",
    "    },\n",
    "    '20SW038':{\n",
    "        'Name':'Jawad Qayoom',\n",
    "        'Age':21,\n",
    "        'year of study': '3rd'\n",
    "    }\n",
    "}\n",
    "\n",
    "print(student_record['20SW041'])\n",
    "print(student_record['20SW117'])\n",
    "print(student_record['20SW038'])"
   ]
  },
  {
   "cell_type": "code",
   "execution_count": null,
   "id": "0084cbf4",
   "metadata": {},
   "outputs": [],
   "source": []
  }
 ],
 "metadata": {
  "kernelspec": {
   "display_name": "Python 3 (ipykernel)",
   "language": "python",
   "name": "python3"
  },
  "language_info": {
   "codemirror_mode": {
    "name": "ipython",
    "version": 3
   },
   "file_extension": ".py",
   "mimetype": "text/x-python",
   "name": "python",
   "nbconvert_exporter": "python",
   "pygments_lexer": "ipython3",
   "version": "3.9.7"
  }
 },
 "nbformat": 4,
 "nbformat_minor": 5
}
