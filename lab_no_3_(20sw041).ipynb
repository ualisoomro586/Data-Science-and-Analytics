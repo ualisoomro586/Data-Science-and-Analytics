{
 "cells": [
  {
   "cell_type": "markdown",
   "metadata": {},
   "source": [
    "# Task no 1"
   ]
  },
  {
   "cell_type": "code",
   "execution_count": 1,
   "metadata": {
    "colab": {
     "base_uri": "https://localhost:8080/"
    },
    "id": "TwbykNc_xLcP",
    "outputId": "032c76a3-cfe2-4766-d5f8-3b6c64e6fa3b"
   },
   "outputs": [
    {
     "name": "stdout",
     "output_type": "stream",
     "text": [
      "expected result: 10, actual_result : 10.0 \n",
      "expected result: 7123.6902801, actual_result : 7123.690280065897 \n"
     ]
    }
   ],
   "source": [
    "# task no 1\n",
    "def population_density(population,land_area):\n",
    "    return population/land_area\n",
    "\n",
    "\n",
    "test1= population_density(10,1)\n",
    "expected_result1=10\n",
    "\n",
    "print(\"expected result: {}, actual_result : {} \".format(expected_result1,test1))\n",
    "\n",
    "\n",
    "test2=population_density(864816,121.4)\n",
    "expected_result2=7123.6902801\n",
    "\n",
    "print(\"expected result: {}, actual_result : {} \".format(expected_result2,test2))\n"
   ]
  },
  {
   "cell_type": "markdown",
   "metadata": {},
   "source": [
    "# Task no 2"
   ]
  },
  {
   "cell_type": "code",
   "execution_count": 3,
   "metadata": {
    "colab": {
     "base_uri": "https://localhost:8080/"
    },
    "id": "SHh7Q9U7xfeX",
    "outputId": "1597ef0b-0e42-40a7-c765-18ff55697652"
   },
   "outputs": [
    {
     "name": "stdout",
     "output_type": "stream",
     "text": [
      "1 weeks and 3 days \n"
     ]
    }
   ],
   "source": [
    "#Task no 2\n",
    "\n",
    "def readable_timedelta(days):\n",
    "  weeks=int(days/7)\n",
    "  remaining_days=weeks*7\n",
    "  final_days=days-remaining_days\n",
    "\n",
    "  return (\"{} weeks and {} days \".format(weeks,final_days))\n",
    "\n",
    "\n",
    "print(readable_timedelta(10))\n"
   ]
  },
  {
   "cell_type": "markdown",
   "metadata": {},
   "source": [
    "# Task no 3"
   ]
  },
  {
   "cell_type": "code",
   "execution_count": 5,
   "metadata": {
    "colab": {
     "base_uri": "https://localhost:8080/"
    },
    "id": "xW4V6ttDzAts",
    "outputId": "ebb64c45-e4fc-42a5-c8a7-ce0032214fba"
   },
   "outputs": [
    {
     "name": "stdout",
     "output_type": "stream",
     "text": [
      "[57.0, 58.2, 50.6, 27.2]\n"
     ]
    }
   ],
   "source": [
    "# Task no 3\n",
    "\n",
    "numbers =[[34,63,88,71,29],[90,78,51,27,45],[63,37,85,46,22],[51,22,34,11,18]]\n",
    "\n",
    "#orginal functions\n",
    "def mean(num_list):\n",
    "  return sum(num_list)/len(num_list)\n",
    "\n",
    "#lambda functions\n",
    "x = lambda num_list: sum(num_list)/len(num_list)\n",
    "averages = list(map(x,numbers))\n",
    "print(averages)"
   ]
  },
  {
   "cell_type": "markdown",
   "metadata": {},
   "source": [
    "# Task no 4"
   ]
  },
  {
   "cell_type": "code",
   "execution_count": 13,
   "metadata": {
    "colab": {
     "base_uri": "https://localhost:8080/"
    },
    "id": "g9hV9CfI4vAu",
    "outputId": "db960359-9bd3-4d64-d23d-dda78edd4947"
   },
   "outputs": [
    {
     "name": "stdout",
     "output_type": "stream",
     "text": [
      "['Chicago', 'Mountain', 'View', 'Denver', 'Boston']\n"
     ]
    }
   ],
   "source": [
    "# TAsk no 4\n",
    "cities = [\"New York City\", \"Los Angeles\", \"Chicago\", \"Mountain\",\"View\", \"Denver\", \"Boston\"]\n",
    "\n",
    "def is_short(name):\n",
    " return len(name) < 10\n",
    "\n",
    " x = lambda name: len(name) < 10\n",
    "\n",
    "short_cities = list(filter(x, cities))\n",
    "print(short_cities)\n",
    "\n",
    "\n"
   ]
  },
  {
   "cell_type": "markdown",
   "metadata": {
    "id": "tzdFL9v94w_r"
   },
   "source": [
    "# Task no 5"
   ]
  },
  {
   "cell_type": "code",
   "execution_count": 2,
   "metadata": {
    "colab": {
     "base_uri": "https://localhost:8080/"
    },
    "id": "-SSHhKeT4xAn",
    "outputId": "ac936503-6710-4d8a-eb02-ebb7df6a91ff"
   },
   "outputs": [
    {
     "name": "stdout",
     "output_type": "stream",
     "text": [
      "Enter names seperated by commnas:Usman,Ali,Usama\n",
      "Enter assignments counts seprated by commas:0,4,5\n",
      "Enter grades seperated by commas :67,65,87\n",
      "\n",
      "Hi Usman,\n",
      "\n",
      "This is a reminder that you have 0 assignments left to submit before you can graduate. You're current grade is 67 and can increase to 67 if you submit all assignments before the due date.\n",
      "\n",
      "\n",
      "\n",
      "Hi Ali,\n",
      "\n",
      "This is a reminder that you have 4 assignments left to submit before you can graduate. You're current grade is 65 and can increase to 73 if you submit all assignments before the due date.\n",
      "\n",
      "\n",
      "\n",
      "Hi Usama,\n",
      "\n",
      "This is a reminder that you have 5 assignments left to submit before you can graduate. You're current grade is 87 and can increase to 97 if you submit all assignments before the due date.\n",
      "\n",
      "\n"
     ]
    }
   ],
   "source": [
    "# Task no 5\n",
    "\n",
    "names =[] # get and process input for a list of names\n",
    "assignments =[] # get and process input for a list of the number ofassignments\n",
    "grades = []# get and process input for a list of grades\n",
    "# message string to be used for each student\n",
    "# HINT: use .format() with this string in your for loop message = \"Hi {},\\n\\nThis is a reminder that you have {} assignments leftto \\submit before you can graduate. You're current grade is {} and can increase to {} if you submit all assignments before the due date.\\n\\n\"\n",
    "# names\n",
    "names=input(\"Enter names seperated by commnas:\")\n",
    "names=names.split(',')\n",
    "\n",
    "assignments = input(\"Enter assignments counts seprated by commas:\")\n",
    "assignments = assignments.split(',')\n",
    "grades=input(\"Enter grades seperated by commas :\")\n",
    "grades= grades.split(',')\n",
    "\n",
    "for i in range(len(names)):\n",
    "  potential_grade = int(grades[i]) + (2 * int(assignments[i]))\n",
    "  print(\"\\nHi {},\\n\\nThis is a reminder that you have {} assignments left to submit before you can graduate. You're current grade is {} and can increase to {} if you submit all assignments before the due date.\\n\\n\".format(names[i],assignments[i],grades[i],potential_grade))\n",
    "\n",
    "\n",
    "\n",
    "\n",
    "\n"
   ]
  },
  {
   "cell_type": "markdown",
   "metadata": {},
   "source": [
    "# Task no 6"
   ]
  },
  {
   "cell_type": "code",
   "execution_count": 5,
   "metadata": {},
   "outputs": [
    {
     "name": "stdout",
     "output_type": "stream",
     "text": [
      "[\"We're the knights of the round table\", \"We dance whenever we're able\"]\n"
     ]
    }
   ],
   "source": [
    "# Task no 6\n",
    "camlot_lines=[]\n",
    "\n",
    "with open(\"camlot.txt\") as f:\n",
    "    for line in f:\n",
    "        camlot_lines.append(line.strip())\n",
    "\n",
    "print(camlot_lines)"
   ]
  },
  {
   "cell_type": "markdown",
   "metadata": {},
   "source": [
    "# Task no 7"
   ]
  },
  {
   "cell_type": "code",
   "execution_count": 11,
   "metadata": {},
   "outputs": [
    {
     "name": "stdout",
     "output_type": "stream",
     "text": [
      "Graham Chapman\n",
      "Eric Idle\n",
      "Terry Jones\n",
      "Michael Palin\n",
      "Terry Gilliam\n",
      "John Cleese\n",
      "Carol Cleveland\n",
      "Ian Davidson\n",
      "John Hughman\n",
      "The Fred Tomlinson Singers\n",
      "Connie Booth\n",
      "Bob Raymond\n",
      "Lyn Ashley\n",
      "Rita Davies\n",
      "Stanley Mason\n",
      "David Ballantyne\n",
      "Donna Reading\n",
      "Peter Brett\n",
      "Maureen Flanagan\n",
      "Katya Wyeth\n",
      "Frank Lester\n",
      "Neil Innes\n",
      "Dick Vosburgh\n",
      "Sandra Richards\n",
      "Julia Breck\n",
      "Nicki Howorth\n",
      "Jimmy Hill\n",
      "Barry Cryer\n",
      "Jeannette Wild\n",
      "Marjorie Wilde\n",
      "Marie Anderson\n",
      "Caron Gardner\n",
      "Nosher Powell\n",
      "Carolae Donoghue\n",
      "Vincent Wong\n",
      "Helena Clayton\n",
      "Nigel Jones\n",
      "Roy Gunson\n",
      "Daphne Davey\n",
      "Stenson Falke\n",
      "Alexander Curry\n",
      "Frank Williams\n",
      "Ralph Wood\n",
      "Rosalind Bailey\n",
      "Marion Mould\n",
      "Sheila Sands\n",
      "Richard Baker\n",
      "Douglas Adams\n",
      "Ewa Aulin\n",
      "Reginald Bosanquet\n",
      "Barbara Lindley\n",
      "Roy Brent\n",
      "Jonas Card\n",
      "Tony Christopher\n",
      "Beulah Hughes\n",
      "Peter Kodak\n",
      "Lulu\n",
      "Jay Neill\n",
      "Graham Skidmore\n",
      "Ringo Starr\n",
      "Fred Tomlinson\n",
      "David Hamilton\n",
      "Suzy Mandel\n",
      "Peter Woods\n"
     ]
    }
   ],
   "source": [
    "# Task no 7 \n",
    "def create_cast_list(filename):\n",
    "    cast_list=[]\n",
    "    with open(filename) as f:\n",
    "        for line in f:\n",
    "            cast_list.append(line.strip().split(',')[0])\n",
    "    return cast_list\n",
    "\n",
    "cast_list = create_cast_list('flying_circus_cast.txt')\n",
    "\n",
    "for actor in cast_list:\n",
    "    print(actor)\n"
   ]
  },
  {
   "cell_type": "code",
   "execution_count": null,
   "metadata": {},
   "outputs": [],
   "source": []
  }
 ],
 "metadata": {
  "colab": {
   "provenance": []
  },
  "kernelspec": {
   "display_name": "Python 3 (ipykernel)",
   "language": "python",
   "name": "python3"
  },
  "language_info": {
   "codemirror_mode": {
    "name": "ipython",
    "version": 3
   },
   "file_extension": ".py",
   "mimetype": "text/x-python",
   "name": "python",
   "nbconvert_exporter": "python",
   "pygments_lexer": "ipython3",
   "version": "3.9.7"
  }
 },
 "nbformat": 4,
 "nbformat_minor": 1
}
